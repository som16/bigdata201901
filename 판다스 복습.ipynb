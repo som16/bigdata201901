{
 "cells": [
  {
   "cell_type": "code",
   "execution_count": 1,
   "metadata": {},
   "outputs": [],
   "source": [
    "import pandas as pd # shift + enter : run "
   ]
  },
  {
   "cell_type": "code",
   "execution_count": 2,
   "metadata": {},
   "outputs": [],
   "source": [
    "import numpy as np # 통계 관련 패키지\n",
    "                   #.ipynp : 노트북 형식의 저장"
   ]
  },
  {
   "cell_type": "code",
   "execution_count": 3,
   "metadata": {},
   "outputs": [],
   "source": [
    "s = pd.Series([1,2,3,4,5]) # R에서 C함수"
   ]
  },
  {
   "cell_type": "code",
   "execution_count": 4,
   "metadata": {},
   "outputs": [
    {
     "data": {
      "text/plain": [
       "0    1\n",
       "1    2\n",
       "2    3\n",
       "3    4\n",
       "4    5\n",
       "dtype: int64"
      ]
     },
     "execution_count": 4,
     "metadata": {},
     "output_type": "execute_result"
    }
   ],
   "source": [
    "s # print(s)와 동일"
   ]
  },
  {
   "cell_type": "code",
   "execution_count": 5,
   "metadata": {},
   "outputs": [],
   "source": [
    "pd.date_range('2013-01-03', periods=6) # CPU에서 처리\n",
    "dates = pd.date_range('2013-01-03', periods=6) # RAM에 저장 "
   ]
  },
  {
   "cell_type": "code",
   "execution_count": 6,
   "metadata": {},
   "outputs": [
    {
     "data": {
      "text/plain": [
       "DatetimeIndex(['2013-01-03', '2013-01-04', '2013-01-05', '2013-01-06',\n",
       "               '2013-01-07', '2013-01-08'],\n",
       "              dtype='datetime64[ns]', freq='D')"
      ]
     },
     "execution_count": 6,
     "metadata": {},
     "output_type": "execute_result"
    }
   ],
   "source": [
    "dates # dtype = [ns] : 숫자로 인식"
   ]
  },
  {
   "cell_type": "code",
   "execution_count": 7,
   "metadata": {},
   "outputs": [
    {
     "data": {
      "text/plain": [
       "array([[-0.53117813,  1.42690168]])"
      ]
     },
     "execution_count": 7,
     "metadata": {},
     "output_type": "execute_result"
    }
   ],
   "source": [
    "np.random.randn(1,2)"
   ]
  },
  {
   "cell_type": "code",
   "execution_count": 8,
   "metadata": {},
   "outputs": [
    {
     "data": {
      "text/plain": [
       "array([[ 1.87830209,  0.05347748],\n",
       "       [ 0.14911467,  0.15352306],\n",
       "       [ 1.4932447 ,  1.26436979],\n",
       "       [ 0.18708203,  0.34650108],\n",
       "       [-0.05365815, -1.04383508],\n",
       "       [-1.38782622,  0.22492428]])"
      ]
     },
     "execution_count": 8,
     "metadata": {},
     "output_type": "execute_result"
    }
   ],
   "source": [
    "np.random.randn(6,2)"
   ]
  },
  {
   "cell_type": "code",
   "execution_count": 9,
   "metadata": {},
   "outputs": [
    {
     "data": {
      "text/plain": [
       "array([[-0.40895618,  0.8673859 , -0.6678851 , -1.34156809],\n",
       "       [ 0.48125502,  0.13105332,  1.31087233,  0.79630714],\n",
       "       [-0.08283941, -0.54435986,  0.15405686,  1.46774683],\n",
       "       [ 0.39134922,  1.59082005,  0.77064212, -0.34226489],\n",
       "       [-0.16535042, -0.10153607,  0.4104453 ,  1.10016501],\n",
       "       [-0.4824367 ,  0.15030817,  1.33831522,  0.2456012 ]])"
      ]
     },
     "execution_count": 9,
     "metadata": {},
     "output_type": "execute_result"
    }
   ],
   "source": [
    "np.random.randn(6,4)"
   ]
  },
  {
   "cell_type": "code",
   "execution_count": 12,
   "metadata": {},
   "outputs": [],
   "source": [
    "df = pd.DataFrame(np.random.randn(6,4), index = dates, columns = ['A','B','C','D'])"
   ]
  },
  {
   "cell_type": "code",
   "execution_count": 13,
   "metadata": {},
   "outputs": [
    {
     "data": {
      "text/html": [
       "<div>\n",
       "<style scoped>\n",
       "    .dataframe tbody tr th:only-of-type {\n",
       "        vertical-align: middle;\n",
       "    }\n",
       "\n",
       "    .dataframe tbody tr th {\n",
       "        vertical-align: top;\n",
       "    }\n",
       "\n",
       "    .dataframe thead th {\n",
       "        text-align: right;\n",
       "    }\n",
       "</style>\n",
       "<table border=\"1\" class=\"dataframe\">\n",
       "  <thead>\n",
       "    <tr style=\"text-align: right;\">\n",
       "      <th></th>\n",
       "      <th>A</th>\n",
       "      <th>B</th>\n",
       "      <th>C</th>\n",
       "      <th>D</th>\n",
       "    </tr>\n",
       "  </thead>\n",
       "  <tbody>\n",
       "    <tr>\n",
       "      <th>2013-01-03</th>\n",
       "      <td>-0.369422</td>\n",
       "      <td>-0.187873</td>\n",
       "      <td>0.692741</td>\n",
       "      <td>1.419638</td>\n",
       "    </tr>\n",
       "    <tr>\n",
       "      <th>2013-01-04</th>\n",
       "      <td>-1.132413</td>\n",
       "      <td>-0.950777</td>\n",
       "      <td>-0.559406</td>\n",
       "      <td>-0.650706</td>\n",
       "    </tr>\n",
       "    <tr>\n",
       "      <th>2013-01-05</th>\n",
       "      <td>-0.396961</td>\n",
       "      <td>-0.940127</td>\n",
       "      <td>0.311955</td>\n",
       "      <td>-1.759480</td>\n",
       "    </tr>\n",
       "    <tr>\n",
       "      <th>2013-01-06</th>\n",
       "      <td>-1.101775</td>\n",
       "      <td>-1.112993</td>\n",
       "      <td>0.527831</td>\n",
       "      <td>0.538167</td>\n",
       "    </tr>\n",
       "    <tr>\n",
       "      <th>2013-01-07</th>\n",
       "      <td>0.039350</td>\n",
       "      <td>1.391830</td>\n",
       "      <td>-0.444905</td>\n",
       "      <td>2.327442</td>\n",
       "    </tr>\n",
       "    <tr>\n",
       "      <th>2013-01-08</th>\n",
       "      <td>-1.287794</td>\n",
       "      <td>0.204903</td>\n",
       "      <td>1.908725</td>\n",
       "      <td>0.635815</td>\n",
       "    </tr>\n",
       "  </tbody>\n",
       "</table>\n",
       "</div>"
      ],
      "text/plain": [
       "                   A         B         C         D\n",
       "2013-01-03 -0.369422 -0.187873  0.692741  1.419638\n",
       "2013-01-04 -1.132413 -0.950777 -0.559406 -0.650706\n",
       "2013-01-05 -0.396961 -0.940127  0.311955 -1.759480\n",
       "2013-01-06 -1.101775 -1.112993  0.527831  0.538167\n",
       "2013-01-07  0.039350  1.391830 -0.444905  2.327442\n",
       "2013-01-08 -1.287794  0.204903  1.908725  0.635815"
      ]
     },
     "execution_count": 13,
     "metadata": {},
     "output_type": "execute_result"
    }
   ],
   "source": [
    "df"
   ]
  },
  {
   "cell_type": "code",
   "execution_count": 16,
   "metadata": {},
   "outputs": [
    {
     "data": {
      "text/html": [
       "<div>\n",
       "<style scoped>\n",
       "    .dataframe tbody tr th:only-of-type {\n",
       "        vertical-align: middle;\n",
       "    }\n",
       "\n",
       "    .dataframe tbody tr th {\n",
       "        vertical-align: top;\n",
       "    }\n",
       "\n",
       "    .dataframe thead th {\n",
       "        text-align: right;\n",
       "    }\n",
       "</style>\n",
       "<table border=\"1\" class=\"dataframe\">\n",
       "  <thead>\n",
       "    <tr style=\"text-align: right;\">\n",
       "      <th></th>\n",
       "      <th>A</th>\n",
       "      <th>B</th>\n",
       "      <th>C</th>\n",
       "      <th>D</th>\n",
       "    </tr>\n",
       "  </thead>\n",
       "  <tbody>\n",
       "    <tr>\n",
       "      <th>2013-01-03</th>\n",
       "      <td>-0.369422</td>\n",
       "      <td>-0.187873</td>\n",
       "      <td>0.692741</td>\n",
       "      <td>1.419638</td>\n",
       "    </tr>\n",
       "    <tr>\n",
       "      <th>2013-01-04</th>\n",
       "      <td>-1.132413</td>\n",
       "      <td>-0.950777</td>\n",
       "      <td>-0.559406</td>\n",
       "      <td>-0.650706</td>\n",
       "    </tr>\n",
       "    <tr>\n",
       "      <th>2013-01-05</th>\n",
       "      <td>-0.396961</td>\n",
       "      <td>-0.940127</td>\n",
       "      <td>0.311955</td>\n",
       "      <td>-1.759480</td>\n",
       "    </tr>\n",
       "  </tbody>\n",
       "</table>\n",
       "</div>"
      ],
      "text/plain": [
       "                   A         B         C         D\n",
       "2013-01-03 -0.369422 -0.187873  0.692741  1.419638\n",
       "2013-01-04 -1.132413 -0.950777 -0.559406 -0.650706\n",
       "2013-01-05 -0.396961 -0.940127  0.311955 -1.759480"
      ]
     },
     "execution_count": 16,
     "metadata": {},
     "output_type": "execute_result"
    }
   ],
   "source": [
    "df.head(3)"
   ]
  },
  {
   "cell_type": "code",
   "execution_count": 17,
   "metadata": {},
   "outputs": [
    {
     "data": {
      "text/plain": [
       "DatetimeIndex(['2013-01-03', '2013-01-04', '2013-01-05', '2013-01-06',\n",
       "               '2013-01-07', '2013-01-08'],\n",
       "              dtype='datetime64[ns]', freq='D')"
      ]
     },
     "execution_count": 17,
     "metadata": {},
     "output_type": "execute_result"
    }
   ],
   "source": [
    "df.index"
   ]
  },
  {
   "cell_type": "code",
   "execution_count": 18,
   "metadata": {},
   "outputs": [
    {
     "data": {
      "text/plain": [
       "Index(['A', 'B', 'C', 'D'], dtype='object')"
      ]
     },
     "execution_count": 18,
     "metadata": {},
     "output_type": "execute_result"
    }
   ],
   "source": [
    "df.columns"
   ]
  },
  {
   "cell_type": "code",
   "execution_count": 19,
   "metadata": {},
   "outputs": [
    {
     "data": {
      "text/plain": [
       "array([[-0.36942209, -0.18787287,  0.69274106,  1.41963779],\n",
       "       [-1.13241285, -0.95077669, -0.55940608, -0.65070621],\n",
       "       [-0.39696127, -0.94012661,  0.31195524, -1.75948012],\n",
       "       [-1.10177481, -1.11299272,  0.52783091,  0.53816684],\n",
       "       [ 0.03935028,  1.39183041, -0.44490534,  2.32744216],\n",
       "       [-1.28779439,  0.20490335,  1.9087255 ,  0.63581528]])"
      ]
     },
     "execution_count": 19,
     "metadata": {},
     "output_type": "execute_result"
    }
   ],
   "source": [
    "df.values"
   ]
  },
  {
   "cell_type": "code",
   "execution_count": 20,
   "metadata": {},
   "outputs": [
    {
     "name": "stdout",
     "output_type": "stream",
     "text": [
      "<class 'pandas.core.frame.DataFrame'>\n",
      "DatetimeIndex: 6 entries, 2013-01-03 to 2013-01-08\n",
      "Freq: D\n",
      "Data columns (total 4 columns):\n",
      "A    6 non-null float64\n",
      "B    6 non-null float64\n",
      "C    6 non-null float64\n",
      "D    6 non-null float64\n",
      "dtypes: float64(4)\n",
      "memory usage: 240.0 bytes\n"
     ]
    }
   ],
   "source": [
    "df.info()"
   ]
  },
  {
   "cell_type": "code",
   "execution_count": 21,
   "metadata": {},
   "outputs": [
    {
     "data": {
      "text/html": [
       "<div>\n",
       "<style scoped>\n",
       "    .dataframe tbody tr th:only-of-type {\n",
       "        vertical-align: middle;\n",
       "    }\n",
       "\n",
       "    .dataframe tbody tr th {\n",
       "        vertical-align: top;\n",
       "    }\n",
       "\n",
       "    .dataframe thead th {\n",
       "        text-align: right;\n",
       "    }\n",
       "</style>\n",
       "<table border=\"1\" class=\"dataframe\">\n",
       "  <thead>\n",
       "    <tr style=\"text-align: right;\">\n",
       "      <th></th>\n",
       "      <th>A</th>\n",
       "      <th>B</th>\n",
       "      <th>C</th>\n",
       "      <th>D</th>\n",
       "    </tr>\n",
       "  </thead>\n",
       "  <tbody>\n",
       "    <tr>\n",
       "      <th>count</th>\n",
       "      <td>6.000000</td>\n",
       "      <td>6.000000</td>\n",
       "      <td>6.000000</td>\n",
       "      <td>6.000000</td>\n",
       "    </tr>\n",
       "    <tr>\n",
       "      <th>mean</th>\n",
       "      <td>-0.708169</td>\n",
       "      <td>-0.265839</td>\n",
       "      <td>0.406157</td>\n",
       "      <td>0.418479</td>\n",
       "    </tr>\n",
       "    <tr>\n",
       "      <th>std</th>\n",
       "      <td>0.536891</td>\n",
       "      <td>0.960939</td>\n",
       "      <td>0.896676</td>\n",
       "      <td>1.455657</td>\n",
       "    </tr>\n",
       "    <tr>\n",
       "      <th>min</th>\n",
       "      <td>-1.287794</td>\n",
       "      <td>-1.112993</td>\n",
       "      <td>-0.559406</td>\n",
       "      <td>-1.759480</td>\n",
       "    </tr>\n",
       "    <tr>\n",
       "      <th>25%</th>\n",
       "      <td>-1.124753</td>\n",
       "      <td>-0.948114</td>\n",
       "      <td>-0.255690</td>\n",
       "      <td>-0.353488</td>\n",
       "    </tr>\n",
       "    <tr>\n",
       "      <th>50%</th>\n",
       "      <td>-0.749368</td>\n",
       "      <td>-0.564000</td>\n",
       "      <td>0.419893</td>\n",
       "      <td>0.586991</td>\n",
       "    </tr>\n",
       "    <tr>\n",
       "      <th>75%</th>\n",
       "      <td>-0.376307</td>\n",
       "      <td>0.106709</td>\n",
       "      <td>0.651514</td>\n",
       "      <td>1.223682</td>\n",
       "    </tr>\n",
       "    <tr>\n",
       "      <th>max</th>\n",
       "      <td>0.039350</td>\n",
       "      <td>1.391830</td>\n",
       "      <td>1.908725</td>\n",
       "      <td>2.327442</td>\n",
       "    </tr>\n",
       "  </tbody>\n",
       "</table>\n",
       "</div>"
      ],
      "text/plain": [
       "              A         B         C         D\n",
       "count  6.000000  6.000000  6.000000  6.000000\n",
       "mean  -0.708169 -0.265839  0.406157  0.418479\n",
       "std    0.536891  0.960939  0.896676  1.455657\n",
       "min   -1.287794 -1.112993 -0.559406 -1.759480\n",
       "25%   -1.124753 -0.948114 -0.255690 -0.353488\n",
       "50%   -0.749368 -0.564000  0.419893  0.586991\n",
       "75%   -0.376307  0.106709  0.651514  1.223682\n",
       "max    0.039350  1.391830  1.908725  2.327442"
      ]
     },
     "execution_count": 21,
     "metadata": {},
     "output_type": "execute_result"
    }
   ],
   "source": [
    "df.describe()"
   ]
  },
  {
   "cell_type": "code",
   "execution_count": 22,
   "metadata": {},
   "outputs": [
    {
     "data": {
      "text/html": [
       "<div>\n",
       "<style scoped>\n",
       "    .dataframe tbody tr th:only-of-type {\n",
       "        vertical-align: middle;\n",
       "    }\n",
       "\n",
       "    .dataframe tbody tr th {\n",
       "        vertical-align: top;\n",
       "    }\n",
       "\n",
       "    .dataframe thead th {\n",
       "        text-align: right;\n",
       "    }\n",
       "</style>\n",
       "<table border=\"1\" class=\"dataframe\">\n",
       "  <thead>\n",
       "    <tr style=\"text-align: right;\">\n",
       "      <th></th>\n",
       "      <th>A</th>\n",
       "      <th>B</th>\n",
       "      <th>C</th>\n",
       "      <th>D</th>\n",
       "    </tr>\n",
       "  </thead>\n",
       "  <tbody>\n",
       "    <tr>\n",
       "      <th>2013-01-07</th>\n",
       "      <td>0.039350</td>\n",
       "      <td>1.391830</td>\n",
       "      <td>-0.444905</td>\n",
       "      <td>2.327442</td>\n",
       "    </tr>\n",
       "    <tr>\n",
       "      <th>2013-01-08</th>\n",
       "      <td>-1.287794</td>\n",
       "      <td>0.204903</td>\n",
       "      <td>1.908725</td>\n",
       "      <td>0.635815</td>\n",
       "    </tr>\n",
       "    <tr>\n",
       "      <th>2013-01-03</th>\n",
       "      <td>-0.369422</td>\n",
       "      <td>-0.187873</td>\n",
       "      <td>0.692741</td>\n",
       "      <td>1.419638</td>\n",
       "    </tr>\n",
       "    <tr>\n",
       "      <th>2013-01-05</th>\n",
       "      <td>-0.396961</td>\n",
       "      <td>-0.940127</td>\n",
       "      <td>0.311955</td>\n",
       "      <td>-1.759480</td>\n",
       "    </tr>\n",
       "    <tr>\n",
       "      <th>2013-01-04</th>\n",
       "      <td>-1.132413</td>\n",
       "      <td>-0.950777</td>\n",
       "      <td>-0.559406</td>\n",
       "      <td>-0.650706</td>\n",
       "    </tr>\n",
       "    <tr>\n",
       "      <th>2013-01-06</th>\n",
       "      <td>-1.101775</td>\n",
       "      <td>-1.112993</td>\n",
       "      <td>0.527831</td>\n",
       "      <td>0.538167</td>\n",
       "    </tr>\n",
       "  </tbody>\n",
       "</table>\n",
       "</div>"
      ],
      "text/plain": [
       "                   A         B         C         D\n",
       "2013-01-07  0.039350  1.391830 -0.444905  2.327442\n",
       "2013-01-08 -1.287794  0.204903  1.908725  0.635815\n",
       "2013-01-03 -0.369422 -0.187873  0.692741  1.419638\n",
       "2013-01-05 -0.396961 -0.940127  0.311955 -1.759480\n",
       "2013-01-04 -1.132413 -0.950777 -0.559406 -0.650706\n",
       "2013-01-06 -1.101775 -1.112993  0.527831  0.538167"
      ]
     },
     "execution_count": 22,
     "metadata": {},
     "output_type": "execute_result"
    }
   ],
   "source": [
    "df.sort_values(by = 'B', ascending = False) # default : 오름차순 (ascending)"
   ]
  },
  {
   "cell_type": "code",
   "execution_count": 23,
   "metadata": {},
   "outputs": [
    {
     "data": {
      "text/plain": [
       "2013-01-03   -0.369422\n",
       "2013-01-04   -1.132413\n",
       "2013-01-05   -0.396961\n",
       "2013-01-06   -1.101775\n",
       "2013-01-07    0.039350\n",
       "2013-01-08   -1.287794\n",
       "Freq: D, Name: A, dtype: float64"
      ]
     },
     "execution_count": 23,
     "metadata": {},
     "output_type": "execute_result"
    }
   ],
   "source": [
    "df['A']"
   ]
  },
  {
   "cell_type": "code",
   "execution_count": 24,
   "metadata": {},
   "outputs": [
    {
     "data": {
      "text/html": [
       "<div>\n",
       "<style scoped>\n",
       "    .dataframe tbody tr th:only-of-type {\n",
       "        vertical-align: middle;\n",
       "    }\n",
       "\n",
       "    .dataframe tbody tr th {\n",
       "        vertical-align: top;\n",
       "    }\n",
       "\n",
       "    .dataframe thead th {\n",
       "        text-align: right;\n",
       "    }\n",
       "</style>\n",
       "<table border=\"1\" class=\"dataframe\">\n",
       "  <thead>\n",
       "    <tr style=\"text-align: right;\">\n",
       "      <th></th>\n",
       "      <th>A</th>\n",
       "      <th>B</th>\n",
       "      <th>C</th>\n",
       "      <th>D</th>\n",
       "    </tr>\n",
       "  </thead>\n",
       "  <tbody>\n",
       "    <tr>\n",
       "      <th>2013-01-03</th>\n",
       "      <td>-0.369422</td>\n",
       "      <td>-0.187873</td>\n",
       "      <td>0.692741</td>\n",
       "      <td>1.419638</td>\n",
       "    </tr>\n",
       "    <tr>\n",
       "      <th>2013-01-04</th>\n",
       "      <td>-1.132413</td>\n",
       "      <td>-0.950777</td>\n",
       "      <td>-0.559406</td>\n",
       "      <td>-0.650706</td>\n",
       "    </tr>\n",
       "    <tr>\n",
       "      <th>2013-01-05</th>\n",
       "      <td>-0.396961</td>\n",
       "      <td>-0.940127</td>\n",
       "      <td>0.311955</td>\n",
       "      <td>-1.759480</td>\n",
       "    </tr>\n",
       "  </tbody>\n",
       "</table>\n",
       "</div>"
      ],
      "text/plain": [
       "                   A         B         C         D\n",
       "2013-01-03 -0.369422 -0.187873  0.692741  1.419638\n",
       "2013-01-04 -1.132413 -0.950777 -0.559406 -0.650706\n",
       "2013-01-05 -0.396961 -0.940127  0.311955 -1.759480"
      ]
     },
     "execution_count": 24,
     "metadata": {},
     "output_type": "execute_result"
    }
   ],
   "source": [
    "df[0:3]"
   ]
  },
  {
   "cell_type": "code",
   "execution_count": null,
   "metadata": {},
   "outputs": [],
   "source": []
  }
 ],
 "metadata": {
  "kernelspec": {
   "display_name": "Python 3",
   "language": "python",
   "name": "python3"
  },
  "language_info": {
   "codemirror_mode": {
    "name": "ipython",
    "version": 3
   },
   "file_extension": ".py",
   "mimetype": "text/x-python",
   "name": "python",
   "nbconvert_exporter": "python",
   "pygments_lexer": "ipython3",
   "version": "3.7.0"
  }
 },
 "nbformat": 4,
 "nbformat_minor": 2
}
