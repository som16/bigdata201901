{
 "cells": [
  {
   "cell_type": "code",
   "execution_count": 1,
   "metadata": {},
   "outputs": [],
   "source": [
    "# 파이썬 함수 다루기"
   ]
  },
  {
   "cell_type": "code",
   "execution_count": 2,
   "metadata": {},
   "outputs": [
    {
     "name": "stdout",
     "output_type": "stream",
     "text": [
      "30\n"
     ]
    }
   ],
   "source": [
    "print(10 + 20)"
   ]
  },
  {
   "cell_type": "code",
   "execution_count": 3,
   "metadata": {},
   "outputs": [
    {
     "name": "stdout",
     "output_type": "stream",
     "text": [
      "500\n"
     ]
    }
   ],
   "source": [
    "print(200 + 300)"
   ]
  },
  {
   "cell_type": "code",
   "execution_count": 4,
   "metadata": {},
   "outputs": [],
   "source": [
    "def add():# 함수를 정의한다. => definition(정의)\n",
    "    print(\"나를 호출 하셨군요.\") # 함수를 사용하는 것 => call(호출)"
   ]
  },
  {
   "cell_type": "code",
   "execution_count": 5,
   "metadata": {},
   "outputs": [
    {
     "name": "stdout",
     "output_type": "stream",
     "text": [
      "나를 호출 하셨군요.\n"
     ]
    }
   ],
   "source": [
    "add()"
   ]
  },
  {
   "cell_type": "code",
   "execution_count": 15,
   "metadata": {},
   "outputs": [
    {
     "name": "stdout",
     "output_type": "stream",
     "text": [
      "두 수의 합은:  300\n"
     ]
    }
   ],
   "source": [
    "add2(100, 200)"
   ]
  },
  {
   "cell_type": "code",
   "execution_count": 17,
   "metadata": {},
   "outputs": [],
   "source": [
    "def add2(x, y):\n",
    "    print(\"x + y = \", x + y)\n",
    "def minus(x, y):\n",
    "    print(\"x - y = \",x - y)\n",
    "def mul(x, y):\n",
    "    print(\"x * y = \", x * y)\n",
    "def div(x, y):\n",
    "    print(\"x / y = \", x / y)"
   ]
  },
  {
   "cell_type": "code",
   "execution_count": 23,
   "metadata": {},
   "outputs": [
    {
     "name": "stdout",
     "output_type": "stream",
     "text": [
      "숫자1 입력 : 300\n",
      "숫자2 입력 : 200\n"
     ]
    }
   ],
   "source": [
    "num1 = input(\"숫자1 입력 : \")\n",
    "num2 = input(\"숫자2 입력 : \")"
   ]
  },
  {
   "cell_type": "code",
   "execution_count": 24,
   "metadata": {},
   "outputs": [],
   "source": [
    "# print(num1 + num2) #input 값은 스트링으로 들어간다."
   ]
  },
  {
   "cell_type": "code",
   "execution_count": 25,
   "metadata": {},
   "outputs": [],
   "source": [
    "n1 = int(num1)\n",
    "n2 = int(num2)\n",
    "# print(n1 + n2)"
   ]
  },
  {
   "cell_type": "code",
   "execution_count": 26,
   "metadata": {},
   "outputs": [
    {
     "name": "stdout",
     "output_type": "stream",
     "text": [
      "연산자를 입력: +, -, *, / 중 하나*\n"
     ]
    }
   ],
   "source": [
    "oper = input(\"연산자를 입력: +, -, *, / 중 하나\")"
   ]
  },
  {
   "cell_type": "code",
   "execution_count": 27,
   "metadata": {},
   "outputs": [
    {
     "name": "stdout",
     "output_type": "stream",
     "text": [
      "x * y =  60000\n"
     ]
    }
   ],
   "source": [
    "if oper == \"+\":\n",
    "    add2(n1, n2)\n",
    "if oper == \"-\":\n",
    "    minus(n1, n2)\n",
    "if oper == \"*\":\n",
    "    mul(n1, n2)\n",
    "if oper == \"/\":\n",
    "    div(n1, n2)    "
   ]
  },
  {
   "cell_type": "code",
   "execution_count": 28,
   "metadata": {},
   "outputs": [],
   "source": [
    "# 특정한 처리 부분\n",
    "# return이 없는 함수 : 호출해서 결과만 실행 요청\n",
    "#                      print()\n",
    "# return이 있는 함수 : 호출해서 결과를 받아온 후 재가공!\n",
    "#                      data = input()\n",
    "#\n",
    "# ex) 음식점에서 계산을 했더니 5만원이 넘는다.\n",
    "# total(인원수, 음식값)\n",
    "# 5만원이 넘으면 5000원 할인."
   ]
  },
  {
   "cell_type": "code",
   "execution_count": 38,
   "metadata": {},
   "outputs": [],
   "source": [
    "def foodtotal(person) :\n",
    "    price = 5000\n",
    "    return person * price"
   ]
  },
  {
   "cell_type": "code",
   "execution_count": 43,
   "metadata": {},
   "outputs": [],
   "source": [
    "total = foodtotal(10) # 반환값이 있는 형태의 함수는 결과값을 변수에 넣어줌."
   ]
  },
  {
   "cell_type": "code",
   "execution_count": null,
   "metadata": {},
   "outputs": [],
   "source": [
    "if total >= 50000 :\n",
    "    discount = 5000\n",
    "    print (\"금액은 \", total - discount, \"입니다.\")"
   ]
  },
  {
   "cell_type": "code",
   "execution_count": 46,
   "metadata": {},
   "outputs": [],
   "source": [
    "hobby = [\"승마\", \"달리기\", \"등산\", \"잠자기\"]"
   ]
  },
  {
   "cell_type": "code",
   "execution_count": 47,
   "metadata": {},
   "outputs": [
    {
     "name": "stdout",
     "output_type": "stream",
     "text": [
      "승마\n",
      "달리기\n",
      "등산\n",
      "잠자기\n"
     ]
    }
   ],
   "source": [
    "for x in hobby :\n",
    "    print(x)"
   ]
  },
  {
   "cell_type": "code",
   "execution_count": 48,
   "metadata": {},
   "outputs": [],
   "source": [
    "# 리스트의 갯수 len(hobby)"
   ]
  },
  {
   "cell_type": "code",
   "execution_count": 49,
   "metadata": {},
   "outputs": [
    {
     "data": {
      "text/plain": [
       "'잠자기'"
      ]
     },
     "execution_count": 49,
     "metadata": {},
     "output_type": "execute_result"
    }
   ],
   "source": [
    "hobby[3] # 파이썬 0부터 시작"
   ]
  },
  {
   "cell_type": "code",
   "execution_count": 53,
   "metadata": {},
   "outputs": [
    {
     "data": {
      "text/plain": [
       "['달리기', '등산']"
      ]
     },
     "execution_count": 53,
     "metadata": {},
     "output_type": "execute_result"
    }
   ],
   "source": [
    "hobby[1:3]"
   ]
  },
  {
   "cell_type": "code",
   "execution_count": 1,
   "metadata": {},
   "outputs": [],
   "source": [
    "email1 = [\"hera@naver.com\"]"
   ]
  },
  {
   "cell_type": "code",
   "execution_count": 2,
   "metadata": {},
   "outputs": [],
   "source": [
    "email2 = [] # 비어있는 리스트 먼저 만들어 놓아야한다."
   ]
  },
  {
   "cell_type": "code",
   "execution_count": 3,
   "metadata": {},
   "outputs": [
    {
     "name": "stdout",
     "output_type": "stream",
     "text": [
      "email >> rr@gmail.com\n"
     ]
    }
   ],
   "source": [
    "data1 = input(\"email >> \")"
   ]
  },
  {
   "cell_type": "code",
   "execution_count": 7,
   "metadata": {},
   "outputs": [],
   "source": [
    "# s.endswith()"
   ]
  },
  {
   "cell_type": "code",
   "execution_count": 8,
   "metadata": {},
   "outputs": [],
   "source": [
    "import os"
   ]
  },
  {
   "cell_type": "code",
   "execution_count": 9,
   "metadata": {},
   "outputs": [
    {
     "name": "stdout",
     "output_type": "stream",
     "text": [
      "현재 작업 폴더 :  C:\\Users\\PC\n"
     ]
    }
   ],
   "source": [
    "print(\"현재 작업 폴더 : \", os.getcwd())"
   ]
  },
  {
   "cell_type": "code",
   "execution_count": null,
   "metadata": {},
   "outputs": [],
   "source": []
  }
 ],
 "metadata": {
  "kernelspec": {
   "display_name": "Python 3",
   "language": "python",
   "name": "python3"
  },
  "language_info": {
   "codemirror_mode": {
    "name": "ipython",
    "version": 3
   },
   "file_extension": ".py",
   "mimetype": "text/x-python",
   "name": "python",
   "nbconvert_exporter": "python",
   "pygments_lexer": "ipython3",
   "version": "3.7.0"
  }
 },
 "nbformat": 4,
 "nbformat_minor": 2
}
