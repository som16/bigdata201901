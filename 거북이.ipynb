{
 "cells": [
  {
   "cell_type": "code",
   "execution_count": 7,
   "metadata": {},
   "outputs": [],
   "source": [
    "import turtle"
   ]
  },
  {
   "cell_type": "code",
   "execution_count": 8,
   "metadata": {},
   "outputs": [],
   "source": [
    "t = turtle.Pen() "
   ]
  },
  {
   "cell_type": "code",
   "execution_count": 9,
   "metadata": {},
   "outputs": [],
   "source": [
    "# direction = input(\"거북이 이름 : \")"
   ]
  },
  {
   "cell_type": "code",
   "execution_count": 10,
   "metadata": {},
   "outputs": [],
   "source": [
    "# direction = input(\"왼쪽: left, 오른쪽: right\")"
   ]
  },
  {
   "cell_type": "code",
   "execution_count": 11,
   "metadata": {},
   "outputs": [],
   "source": [
    "# distance = input(\"얼만큼 갈까요?\")\n",
    "# distance"
   ]
  },
  {
   "cell_type": "code",
   "execution_count": null,
   "metadata": {},
   "outputs": [
    {
     "name": "stdout",
     "output_type": "stream",
     "text": [
      "왼쪽: left, 오른쪽: rightleft\n",
      "왼쪽: left, 오른쪽: rightleft\n",
      "왼쪽: left, 오른쪽: rightleft\n",
      "왼쪽: left, 오른쪽: rightleft\n",
      "왼쪽: left, 오른쪽: rightleft\n",
      "왼쪽: left, 오른쪽: rightright\n",
      "왼쪽: left, 오른쪽: rightleft\n",
      "왼쪽: left, 오른쪽: rightleft\n",
      "왼쪽: left, 오른쪽: rightright\n",
      "왼쪽: left, 오른쪽: rightleft\n",
      "왼쪽: left, 오른쪽: rightleft\n",
      "왼쪽: left, 오른쪽: rightleft\n",
      "왼쪽: left, 오른쪽: rightleft\n",
      "왼쪽: left, 오른쪽: rightright\n"
     ]
    }
   ],
   "source": [
    "while True:\n",
    "    direction = input(\"왼쪽: left, 오른쪽: right\")\n",
    "#    distance = input(\"얼만큼 갈까요?\")\n",
    "    if direction == \"left\":\n",
    "        t.left(60) # 각도 입력\n",
    "        t.forward(50)\n",
    "    if direction == \"right\":\n",
    "        t.right(60)\n",
    "        t.forward(50)"
   ]
  },
  {
   "cell_type": "code",
   "execution_count": null,
   "metadata": {},
   "outputs": [],
   "source": []
  }
 ],
 "metadata": {
  "kernelspec": {
   "display_name": "Python 3",
   "language": "python",
   "name": "python3"
  },
  "language_info": {
   "codemirror_mode": {
    "name": "ipython",
    "version": 3
   },
   "file_extension": ".py",
   "mimetype": "text/x-python",
   "name": "python",
   "nbconvert_exporter": "python",
   "pygments_lexer": "ipython3",
   "version": "3.7.0"
  }
 },
 "nbformat": 4,
 "nbformat_minor": 2
}
