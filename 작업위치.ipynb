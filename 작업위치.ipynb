{
 "cells": [
  {
   "cell_type": "code",
   "execution_count": 2,
   "metadata": {},
   "outputs": [],
   "source": [
    "import os"
   ]
  },
  {
   "cell_type": "code",
   "execution_count": 3,
   "metadata": {},
   "outputs": [
    {
     "name": "stdout",
     "output_type": "stream",
     "text": [
      "현재 작업 위치는  C:\\Users\\PC\n"
     ]
    }
   ],
   "source": [
    "print(\"현재 작업 위치는 \", os.getcwd())"
   ]
  },
  {
   "cell_type": "code",
   "execution_count": 5,
   "metadata": {},
   "outputs": [],
   "source": [
    "with open(\"file1.txt\", \"w\") as file:\n",
    "    file.write(\"h1............\\n\")\n",
    "    file.write(\"h2..............\")"
   ]
  },
  {
   "cell_type": "code",
   "execution_count": 6,
   "metadata": {},
   "outputs": [],
   "source": [
    "# 리스트에 데이터 3개 들어있음.\n",
    "# 파일에 한 줄씩."
   ]
  },
  {
   "cell_type": "code",
   "execution_count": 12,
   "metadata": {},
   "outputs": [],
   "source": [
    "datalist = [\"data1\", \"data2\", \"data3\"]\n",
    "with open(\"file2.txt\", \"w\") as file : \n",
    "    for x in range(len(datalist)) :\n",
    "        file.write(datalist[x])\n",
    "        file.write(\"\\n\")"
   ]
  },
  {
   "cell_type": "code",
   "execution_count": null,
   "metadata": {},
   "outputs": [],
   "source": [
    "# 텍스트 데이터는 데이터 프레임에 넣으세요!!\n",
    "# >> 긴 데이터 형태가 되어야한다.\n",
    "# ex)\n",
    "# 이름    나이     주소\n",
    "# 김      100      경기도\n",
    "# 이      90       서울\n",
    "# 송      80       강원도\n",
    "#___________________________\n",
    "# ^ 데이터는 아래로 긴 형태가 되어야 한다.\n",
    "# 행이 같은 타입이 되어버리면 데이터 분석 불가>> 전처리 과정 필요\n",
    "# 김        이         송\n",
    "# 100       90         80\n",
    "# 경기도    서울       강원도\n",
    "# XXXXXXXXXXXXXXXXXXXXXXXXXXXXXXXXX"
   ]
  }
 ],
 "metadata": {
  "kernelspec": {
   "display_name": "Python 3",
   "language": "python",
   "name": "python3"
  },
  "language_info": {
   "codemirror_mode": {
    "name": "ipython",
    "version": 3
   },
   "file_extension": ".py",
   "mimetype": "text/x-python",
   "name": "python",
   "nbconvert_exporter": "python",
   "pygments_lexer": "ipython3",
   "version": "3.7.0"
  }
 },
 "nbformat": 4,
 "nbformat_minor": 2
}
