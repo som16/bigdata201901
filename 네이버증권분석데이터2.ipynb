{
 "cells": [
  {
   "cell_type": "code",
   "execution_count": 1,
   "metadata": {},
   "outputs": [],
   "source": [
    "# 인터넷 연결\n",
    "# html 문서를 받아와서 분석\n",
    "\n",
    "import requests\n",
    "from bs4 import BeautifulSoup"
   ]
  },
  {
   "cell_type": "code",
   "execution_count": 16,
   "metadata": {},
   "outputs": [],
   "source": [
    "# 함수 만들기\n",
    "def get_price(company_code):\n",
    "    url = \"https://finance.naver.com/item/main.nhn?code=\" + company_code\n",
    "    # url = \"https://finance.naver.com/item/main.nhn?code=035420\"\n",
    "    # print(\"url: \", url)\n",
    "    \n",
    "    result = requests.get(url)\n",
    "    # print(\"result: \", result)\n",
    "    \n",
    "    bs_obj = BeautifulSoup (result.content, \"html.parser\")\n",
    "    # print(\"bs_obj: \", bs_obj)\n",
    "    \n",
    "    no_today = bs_obj.find(\"p\", {\"class\":\"no_today\"})\n",
    "    blind_now = no_today.find(\"span\", {\"class\":\"blind\"})\n",
    "    print(\"blind_now: \", blind_now)\n",
    "    \n",
    "    print(\"최종결과값: \", blind_now.text)"
   ]
  },
  {
   "cell_type": "code",
   "execution_count": 17,
   "metadata": {},
   "outputs": [
    {
     "name": "stdout",
     "output_type": "stream",
     "text": [
      "blind_now:  <span class=\"blind\">43,800</span>\n",
      "최종결과값:  43,800\n"
     ]
    }
   ],
   "source": [
    "get_price(\"005930\") # 삼성전자"
   ]
  },
  {
   "cell_type": "code",
   "execution_count": null,
   "metadata": {},
   "outputs": [],
   "source": [
    "get_price(\"005930\") # 삼성전자"
   ]
  }
 ],
 "metadata": {
  "kernelspec": {
   "display_name": "Python 3",
   "language": "python",
   "name": "python3"
  },
  "language_info": {
   "codemirror_mode": {
    "name": "ipython",
    "version": 3
   },
   "file_extension": ".py",
   "mimetype": "text/x-python",
   "name": "python",
   "nbconvert_exporter": "python",
   "pygments_lexer": "ipython3",
   "version": "3.7.0"
  }
 },
 "nbformat": 4,
 "nbformat_minor": 2
}
