{
 "cells": [
  {
   "cell_type": "code",
   "execution_count": 1,
   "metadata": {},
   "outputs": [],
   "source": [
    "# 인터넷 연결\n",
    "# html 문서를 받아와서 분석\n",
    "\n",
    "import requests\n",
    "from bs4 import BeautifulSoup"
   ]
  },
  {
   "cell_type": "code",
   "execution_count": 37,
   "metadata": {},
   "outputs": [],
   "source": [
    "# 함수 만들기\n",
    "def get_price(company_code):\n",
    "    url = \"https://finance.naver.com/item/main.nhn?code=\" + company_code\n",
    "    # url = \"https://finance.naver.com/item/main.nhn?code=035420\"\n",
    "    # print(\"url: \", url)\n",
    "    \n",
    "    result = requests.get(url)\n",
    "    # print(\"result: \", result)\n",
    "    \n",
    "    bs_obj = BeautifulSoup (result.content, \"html.parser\")\n",
    "    # print(\"bs_obj: \", bs_obj)\n",
    "    \n",
    "    no_today = bs_obj.find(\"p\", {\"class\":\"no_today\"})\n",
    "    blind_now = no_today.find(\"span\", {\"class\":\"blind\"})\n",
    "    # print(\"blind_now: \", blind_now)\n",
    "    \n",
    "    all_td = bs_obj.find(\"td\", {\"class\":\"first\"})\n",
    "    first = all_td.find(\"span\", {\"class\":\"blind\"})\n",
    "    \n",
    "    print(company_code, \"의 시가: \", blind_now.text, \", 전일가\", first.text)"
   ]
  },
  {
   "cell_type": "code",
   "execution_count": 17,
   "metadata": {},
   "outputs": [
    {
     "name": "stdout",
     "output_type": "stream",
     "text": [
      "blind_now:  <span class=\"blind\">43,800</span>\n",
      "최종결과값:  43,800\n"
     ]
    }
   ],
   "source": [
    "get_price(\"005930\") # 삼성전자"
   ]
  },
  {
   "cell_type": "code",
   "execution_count": 20,
   "metadata": {},
   "outputs": [
    {
     "name": "stdout",
     "output_type": "stream",
     "text": [
      "blind_now:  <span class=\"blind\">120,000</span>\n",
      "최종결과값:  120,000\n"
     ]
    }
   ],
   "source": [
    "get_price(\"005380\")"
   ]
  },
  {
   "cell_type": "code",
   "execution_count": 26,
   "metadata": {},
   "outputs": [],
   "source": [
    "company_codes = [\"035420\",\"122870\",\"017800\",\"025980\",\"005380\"]"
   ]
  },
  {
   "cell_type": "code",
   "execution_count": 27,
   "metadata": {},
   "outputs": [
    {
     "name": "stdout",
     "output_type": "stream",
     "text": [
      "035420\n",
      "122870\n",
      "017800\n",
      "025980\n",
      "005380\n"
     ]
    }
   ],
   "source": [
    "for code in company_codes:\n",
    "    print(code)"
   ]
  },
  {
   "cell_type": "code",
   "execution_count": 30,
   "metadata": {},
   "outputs": [
    {
     "name": "stdout",
     "output_type": "stream",
     "text": [
      "035420 의 최종결과값:  133,000\n",
      "122870 의 최종결과값:  43,250\n",
      "017800 의 최종결과값:  82,300\n",
      "025980 의 최종결과값:  18,450\n",
      "005380 의 최종결과값:  120,000\n"
     ]
    }
   ],
   "source": [
    "for code in company_codes:\n",
    "    get_price(code)"
   ]
  },
  {
   "cell_type": "code",
   "execution_count": 34,
   "metadata": {},
   "outputs": [],
   "source": [
    "company_list = [\"NAVER\",\"와이지엔터테인먼트\",\"현대엘리베이\",\"아난티\",\"현대차\"]"
   ]
  },
  {
   "cell_type": "code",
   "execution_count": 38,
   "metadata": {},
   "outputs": [
    {
     "name": "stdout",
     "output_type": "stream",
     "text": [
      "NAVER\n",
      "035420 의 시가:  133,000 , 전일가 138,500\n",
      "와이지엔터테인먼트\n",
      "122870 의 시가:  43,250 , 전일가 40,750\n",
      "현대엘리베이\n",
      "017800 의 시가:  82,300 , 전일가 83,300\n",
      "아난티\n",
      "025980 의 시가:  18,450 , 전일가 19,400\n",
      "현대차\n",
      "005380 의 시가:  120,000 , 전일가 125,500\n"
     ]
    }
   ],
   "source": [
    "i = 0\n",
    "for code in company_codes :\n",
    "    print(company_list[i])\n",
    "    get_price(code)\n",
    "    i = i + 1"
   ]
  }
 ],
 "metadata": {
  "kernelspec": {
   "display_name": "Python 3",
   "language": "python",
   "name": "python3"
  },
  "language_info": {
   "codemirror_mode": {
    "name": "ipython",
    "version": 3
   },
   "file_extension": ".py",
   "mimetype": "text/x-python",
   "name": "python",
   "nbconvert_exporter": "python",
   "pygments_lexer": "ipython3",
   "version": "3.7.0"
  }
 },
 "nbformat": 4,
 "nbformat_minor": 2
}
